{
 "cells": [
  {
   "cell_type": "markdown",
   "metadata": {},
   "source": [
    "# Wind prediction - Second assignment\n",
    "\n",
    "## Authors\n",
    "\n",
    "David Moreno Maldonado 100441714     \n",
    "Inés Fernández Campos 100443936"
   ]
  },
  {
   "cell_type": "markdown",
   "metadata": {},
   "source": [
    "## 0. Preliminaries"
   ]
  },
  {
   "cell_type": "code",
   "execution_count": 1,
   "metadata": {},
   "outputs": [
    {
     "data": {
      "text/plain": [
       "'/home/fddcampos/Documents/uc3m/2_term/BDINTELLIGENCE/practicas_big_data_intelligence/assignment_2'"
      ]
     },
     "execution_count": 1,
     "metadata": {},
     "output_type": "execute_result"
    }
   ],
   "source": [
    "# Import some libraries\n",
    "import os\n",
    "import numpy as np              \n",
    "import pandas as pd\n",
    "import matplotlib.pyplot as plt \n",
    "\n",
    "import sys\n",
    "import time\n",
    "import math\n",
    "\n",
    "from sklearn.experimental import enable_iterative_imputer\n",
    "from sklearn import preprocessing, impute, model_selection, metrics, neighbors, ensemble, feature_selection\n",
    "from sklearn.pipeline import Pipeline\n",
    "import optuna\n",
    "import optuna.visualization as ov\n",
    "\n",
    "os.getcwd()"
   ]
  },
  {
   "cell_type": "code",
   "execution_count": 2,
   "metadata": {},
   "outputs": [],
   "source": [
    "#MAIN PARAMETERS FOR THE ASSIGNMENT\n",
    "budget = 20\n",
    "random_state = 3\n",
    "verbose = 0\n",
    "n_jobs = 1"
   ]
  },
  {
   "cell_type": "markdown",
   "metadata": {},
   "source": [
    "The \"wind_pickle\" file contains data in a binary format called \"Pickle\". Pickle data loads faster than text data."
   ]
  },
  {
   "cell_type": "code",
   "execution_count": 3,
   "metadata": {
    "scrolled": true
   },
   "outputs": [],
   "source": [
    "data = pd.read_pickle('wind_pickle.pickle')"
   ]
  },
  {
   "cell_type": "markdown",
   "metadata": {},
   "source": [
    "You can visualize the attributes in the dataset. Very important, the output attribute (i.e. the value to be predicted, **energy**, is the first attribute). **Steps** represents the hours in advance of the forecast. We will not use this variable here."
   ]
  },
  {
   "cell_type": "code",
   "execution_count": 4,
   "metadata": {},
   "outputs": [
    {
     "name": "stdout",
     "output_type": "stream",
     "text": [
      "(5937, 556)\n"
     ]
    }
   ],
   "source": [
    "# The dataset contains 5937 instances and 556 attributes (including the outcome to be predicted)\n",
    "print(data.shape)\n",
    "#data.columns.values.tolist() "
   ]
  },
  {
   "cell_type": "code",
   "execution_count": 5,
   "metadata": {},
   "outputs": [],
   "source": [
    "#-1 for training, 0 for validation, 1 for testing\n",
    "year_to_part = {\n",
    "    2005: -1,\n",
    "    2006: -1,\n",
    "    2007: 0,\n",
    "    2008: 0, \n",
    "    2009: 1,\n",
    "    2010: 1\n",
    "}\n",
    "data['partition'] = data['year'].apply(lambda x: year_to_part[x])"
   ]
  },
  {
   "cell_type": "markdown",
   "metadata": {},
   "source": [
    "We now remove the columns that cannot be used for training the models from the DataFrame"
   ]
  },
  {
   "cell_type": "code",
   "execution_count": 6,
   "metadata": {},
   "outputs": [],
   "source": [
    "# Steps, month, day, hour, year should be removed, they cannot be used for training the models\n",
    "to_remove = ['steps', 'month', 'year', 'day', 'hour']\n",
    "for m in to_remove: data = data.drop(m, 1)"
   ]
  },
  {
   "cell_type": "code",
   "execution_count": 7,
   "metadata": {},
   "outputs": [
    {
     "name": "stdout",
     "output_type": "stream",
     "text": [
      "Lets put 163861 missing values \n",
      "\n"
     ]
    }
   ],
   "source": [
    "from numpy.random import randint\n",
    "\n",
    "# we add na values at random\n",
    "my_NIA = 100443936 + 100441714\n",
    "np.random.seed(my_NIA)\n",
    "\n",
    "how_many_nas = round(data.shape[0]*data.shape[1]*0.05)\n",
    "print('Lets put '+str(how_many_nas)+' missing values \\n')\n",
    "x_locations = randint(0, data.shape[0], size=how_many_nas)\n",
    "y_locations = randint(1, data.shape[1]-2, size=how_many_nas)\n",
    "\n",
    "for i in range(len(x_locations)):\n",
    "    data.iat[x_locations[i], y_locations[i]] = np.nan\n",
    "    \n",
    "data.to_pickle('wind_pickle_with_nan.pickle')"
   ]
  },
  {
   "cell_type": "markdown",
   "metadata": {},
   "source": [
    "From this point on, the file wind_pickle_with_nan should be used."
   ]
  },
  {
   "cell_type": "code",
   "execution_count": 8,
   "metadata": {},
   "outputs": [
    {
     "data": {
      "text/plain": [
       "(5937, 552)"
      ]
     },
     "execution_count": 8,
     "metadata": {},
     "output_type": "execute_result"
    }
   ],
   "source": [
    "data = pd.read_pickle('wind_pickle_with_nan.pickle')\n",
    "data.shape"
   ]
  },
  {
   "cell_type": "markdown",
   "metadata": {},
   "source": [
    "## Input missing data"
   ]
  },
  {
   "cell_type": "code",
   "execution_count": 9,
   "metadata": {},
   "outputs": [
    {
     "name": "stdout",
     "output_type": "stream",
     "text": [
      "True\n",
      "False\n"
     ]
    }
   ],
   "source": [
    "print(data.isnull().values.any())\n",
    "input_cols = data.columns.difference(['energy', 'partition'])\n",
    "x = data[input_cols]\n",
    "#Iterative imputer (takes too long)\n",
    "'''iter_imp = impute.IterativeImputer(random_state=random_state, \n",
    "                                   initial_strategy='median', \n",
    "                                   max_iter=3,\n",
    "                                   verbose=verbose)\n",
    "no_nan = iter_imp.fit_transform(x)'''\n",
    "\n",
    "#KNN imputer(takes too long)\n",
    "'''knn_imp = impute.KNNImputer(weights='distance')\n",
    "no_nan = knn_imp.fit_transform(x)'''\n",
    "\n",
    "#Simple imputer\n",
    "simp_imp = impute.SimpleImputer(strategy='median',\n",
    "                               verbose=2)\n",
    "no_nan = simp_imp.fit_transform(x)\n",
    "\n",
    "data[input_cols] = pd.DataFrame(data=no_nan)\n",
    "print(data.isnull().values.any())"
   ]
  },
  {
   "cell_type": "markdown",
   "metadata": {},
   "source": [
    "## Scaling"
   ]
  },
  {
   "cell_type": "code",
   "execution_count": 10,
   "metadata": {},
   "outputs": [],
   "source": [
    "scaler = preprocessing.StandardScaler().fit(data[input_cols]) \n",
    "data[input_cols] = scaler.transform(data[input_cols])"
   ]
  },
  {
   "cell_type": "markdown",
   "metadata": {},
   "source": [
    "## Data split\n",
    "We are going to use train/test for model evaluation (outer) and train/validation for hyperparameter tuning (inner), as follows:     \n",
    "1. Train partition: the first two years of data. Given that there are 6 years worth of data, we will use the first 2/6 of the instances for training.     \n",
    "2. Validation partition: the second two years of data. \n",
    "3. Test partition: the remaining data    \n"
   ]
  },
  {
   "cell_type": "code",
   "execution_count": 11,
   "metadata": {},
   "outputs": [],
   "source": [
    "#-1 for training, 0 for validation, 1 for testing\n",
    "test = data[data['partition'] == 1]\n",
    "train = data[data['partition'] == -1]\n",
    "val = data[data['partition'] == 0]\n",
    "\n",
    "del test['partition']\n",
    "del train['partition']\n",
    "\n",
    "y_test = test['energy']\n",
    "x_test = test[test.columns.difference(['energy'])]\n",
    "\n",
    "y_train = train['energy']\n",
    "x_train = train[train.columns.difference(['energy'])]\n",
    "\n",
    "\n",
    "y_val = val['energy']\n",
    "x_val = val[train.columns.difference(['energy'])]"
   ]
  },
  {
   "cell_type": "markdown",
   "metadata": {},
   "source": [
    "# 1. MODEL SELECTION AND HYPER-PARAMETER TUNING"
   ]
  },
  {
   "cell_type": "code",
   "execution_count": 13,
   "metadata": {},
   "outputs": [],
   "source": [
    "#Dataframes with all the information of each model\n",
    "summary = {\n",
    "    'knn': pd.DataFrame(columns=['Time (sec)', 'Score (RMSE)', 'N. neighbors', 'Weights', 'P']),\n",
    "    'random_forest': pd.DataFrame(columns=['Time (sec)', 'Score (RMSE)', 'Min. samples split', 'Criterion', 'Max. depth', 'N. estimators','Max. features']),\n",
    "    'gradient_boosting': pd.DataFrame(columns=['Time (sec)', 'Score (RMSE)'])\n",
    "}"
   ]
  },
  {
   "cell_type": "markdown",
   "metadata": {},
   "source": [
    "## 1.1 KNN"
   ]
  },
  {
   "cell_type": "markdown",
   "metadata": {},
   "source": [
    "### 1.1.1 Default hyper-parameters"
   ]
  },
  {
   "cell_type": "code",
   "execution_count": 15,
   "metadata": {},
   "outputs": [],
   "source": [
    "np.random.seed(random_state)\n",
    "knn_default = neighbors.KNeighborsRegressor()\n",
    "\n",
    "start_time = time.time()\n",
    "knn_default = knn_default.fit(x_train, y_train)\n",
    "y_val_pred = knn_default.predict(x_val)\n",
    "score = math.sqrt(metrics.mean_squared_error(y_val, y_val_pred))\n",
    "end_time = time.time()\n",
    "\n",
    "summary['knn'] = summary['knn'].append(pd.Series({\n",
    "    'Time (sec)': '{:.4f}'.format(end_time - start_time), \n",
    "    'Score (RMSE)': score, \n",
    "    'N. neighbors': 5, \n",
    "    'Weights': 'uniform', \n",
    "    'P': 2\n",
    "    }, \n",
    "    name='default'))"
   ]
  },
  {
   "cell_type": "markdown",
   "metadata": {},
   "source": [
    "### 1.1.2 Hyper-parameter tunning (OPTUNA)"
   ]
  },
  {
   "cell_type": "code",
   "execution_count": 16,
   "metadata": {},
   "outputs": [],
   "source": [
    "min_n_neigbors = 1\n",
    "max_n_neigbors = 16"
   ]
  },
  {
   "cell_type": "code",
   "execution_count": 17,
   "metadata": {},
   "outputs": [
    {
     "name": "stderr",
     "output_type": "stream",
     "text": [
      "\u001b[32m[I 2021-01-13 14:30:52,839]\u001b[0m A new study created in memory with name: no-name-5643f019-8098-4f6e-a30e-e1b102ce75a1\u001b[0m\n",
      "\u001b[32m[I 2021-01-13 14:30:55,885]\u001b[0m Trial 0 finished with value: 461.50247231150104 and parameters: {'n_neighbors': 4, 'weights': 'distance', 'p': 2}. Best is trial 0 with value: 461.50247231150104.\u001b[0m\n",
      "\u001b[32m[I 2021-01-13 14:30:59,358]\u001b[0m Trial 1 finished with value: 425.8532193925109 and parameters: {'n_neighbors': 12, 'weights': 'uniform', 'p': 1}. Best is trial 1 with value: 425.8532193925109.\u001b[0m\n",
      "\u001b[32m[I 2021-01-13 14:31:02,432]\u001b[0m Trial 2 finished with value: 446.53181088677667 and parameters: {'n_neighbors': 6, 'weights': 'distance', 'p': 2}. Best is trial 1 with value: 425.8532193925109.\u001b[0m\n",
      "\u001b[32m[I 2021-01-13 14:31:05,247]\u001b[0m Trial 3 finished with value: 438.66704912167074 and parameters: {'n_neighbors': 8, 'weights': 'distance', 'p': 2}. Best is trial 1 with value: 425.8532193925109.\u001b[0m\n",
      "\u001b[32m[I 2021-01-13 14:31:08,229]\u001b[0m Trial 4 finished with value: 435.96737369410965 and parameters: {'n_neighbors': 16, 'weights': 'uniform', 'p': 2}. Best is trial 1 with value: 425.8532193925109.\u001b[0m\n",
      "\u001b[32m[I 2021-01-13 14:31:11,524]\u001b[0m Trial 5 finished with value: 425.19635407015437 and parameters: {'n_neighbors': 9, 'weights': 'distance', 'p': 1}. Best is trial 5 with value: 425.19635407015437.\u001b[0m\n",
      "\u001b[32m[I 2021-01-13 14:31:14,839]\u001b[0m Trial 6 finished with value: 434.295501863787 and parameters: {'n_neighbors': 14, 'weights': 'distance', 'p': 2}. Best is trial 5 with value: 425.19635407015437.\u001b[0m\n",
      "\u001b[32m[I 2021-01-13 14:31:18,041]\u001b[0m Trial 7 finished with value: 461.102922608866 and parameters: {'n_neighbors': 3, 'weights': 'distance', 'p': 1}. Best is trial 5 with value: 425.19635407015437.\u001b[0m\n",
      "\u001b[32m[I 2021-01-13 14:31:21,536]\u001b[0m Trial 8 finished with value: 432.0797327508031 and parameters: {'n_neighbors': 7, 'weights': 'uniform', 'p': 1}. Best is trial 5 with value: 425.19635407015437.\u001b[0m\n",
      "\u001b[32m[I 2021-01-13 14:31:24,996]\u001b[0m Trial 9 finished with value: 455.12386790067876 and parameters: {'n_neighbors': 5, 'weights': 'uniform', 'p': 2}. Best is trial 5 with value: 425.19635407015437.\u001b[0m\n",
      "\u001b[32m[I 2021-01-13 14:31:28,848]\u001b[0m Trial 10 finished with value: 424.95488026361073 and parameters: {'n_neighbors': 11, 'weights': 'distance', 'p': 1}. Best is trial 10 with value: 424.95488026361073.\u001b[0m\n",
      "\u001b[32m[I 2021-01-13 14:31:32,720]\u001b[0m Trial 11 finished with value: 424.95488026361073 and parameters: {'n_neighbors': 11, 'weights': 'distance', 'p': 1}. Best is trial 10 with value: 424.95488026361073.\u001b[0m\n",
      "\u001b[32m[I 2021-01-13 14:31:37,344]\u001b[0m Trial 12 finished with value: 424.95488026361073 and parameters: {'n_neighbors': 11, 'weights': 'distance', 'p': 1}. Best is trial 10 with value: 424.95488026361073.\u001b[0m\n",
      "\u001b[32m[I 2021-01-13 14:31:41,148]\u001b[0m Trial 13 finished with value: 424.95488026361073 and parameters: {'n_neighbors': 11, 'weights': 'distance', 'p': 1}. Best is trial 10 with value: 424.95488026361073.\u001b[0m\n",
      "\u001b[32m[I 2021-01-13 14:31:45,116]\u001b[0m Trial 14 finished with value: 427.9653491023484 and parameters: {'n_neighbors': 14, 'weights': 'distance', 'p': 1}. Best is trial 10 with value: 424.95488026361073.\u001b[0m\n",
      "\u001b[32m[I 2021-01-13 14:31:48,313]\u001b[0m Trial 15 finished with value: 571.1694071873051 and parameters: {'n_neighbors': 1, 'weights': 'distance', 'p': 1}. Best is trial 10 with value: 424.95488026361073.\u001b[0m\n",
      "\u001b[32m[I 2021-01-13 14:31:51,797]\u001b[0m Trial 16 finished with value: 424.97500012000376 and parameters: {'n_neighbors': 10, 'weights': 'distance', 'p': 1}. Best is trial 10 with value: 424.95488026361073.\u001b[0m\n",
      "\u001b[32m[I 2021-01-13 14:31:55,226]\u001b[0m Trial 17 finished with value: 426.6970286295103 and parameters: {'n_neighbors': 13, 'weights': 'distance', 'p': 1}. Best is trial 10 with value: 424.95488026361073.\u001b[0m\n",
      "\u001b[32m[I 2021-01-13 14:31:58,668]\u001b[0m Trial 18 finished with value: 427.6511157945625 and parameters: {'n_neighbors': 16, 'weights': 'distance', 'p': 1}. Best is trial 10 with value: 424.95488026361073.\u001b[0m\n",
      "\u001b[32m[I 2021-01-13 14:32:01,862]\u001b[0m Trial 19 finished with value: 427.333974534529 and parameters: {'n_neighbors': 8, 'weights': 'distance', 'p': 1}. Best is trial 10 with value: 424.95488026361073.\u001b[0m\n"
     ]
    }
   ],
   "source": [
    "np.random.seed(random_state)\n",
    "def knn_objective(trial):\n",
    "    n_neighbors = trial.suggest_int('n_neighbors', min_n_neigbors, max_n_neigbors)\n",
    "    weights = trial.suggest_categorical('weights', ['uniform','distance'])\n",
    "    p = trial.suggest_categorical('p', [1, 2])\n",
    "\n",
    "    clf = neighbors.KNeighborsRegressor(\n",
    "        n_neighbors=n_neighbors,\n",
    "        weights=weights,\n",
    "        p=p)\n",
    "    \n",
    "    clf = clf.fit(x_train, y_train)\n",
    "    y_val_pred = clf.predict(x_val)\n",
    "    return math.sqrt(metrics.mean_squared_error(y_val, y_val_pred))\n",
    "\n",
    "knn_optuna = optuna.create_study(direction='minimize')\n",
    "start_time = time.time()\n",
    "knn_optuna.optimize(knn_objective, n_trials=budget)\n",
    "end_time = time.time()\n",
    "\n",
    "summary['knn'] = summary['knn'].append(pd.Series({\n",
    "    'Time (sec)': '{:.4f}'.format(end_time - start_time), \n",
    "    'Score (RMSE)': knn_optuna.best_value, \n",
    "    'N. neighbors': knn_optuna.best_params['n_neighbors'], \n",
    "    'Weights': knn_optuna.best_params['weights'], \n",
    "    'P': knn_optuna.best_params['p']\n",
    "    }, \n",
    "    name='optuna'))"
   ]
  },
  {
   "cell_type": "markdown",
   "metadata": {},
   "source": [
    "## 1.2 Random Forest"
   ]
  },
  {
   "cell_type": "markdown",
   "metadata": {},
   "source": [
    "### 1.2.1 Default hyper-parameters"
   ]
  },
  {
   "cell_type": "code",
   "execution_count": 20,
   "metadata": {},
   "outputs": [],
   "source": [
    "np.random.seed(random_state)\n",
    "rf_default = ensemble.RandomForestRegressor(random_state=random_state, verbose=verbose, n_jobs=n_jobs)\n",
    "\n",
    "start_time = time.time()\n",
    "rf_default = rf_default.fit(x_train, y_train)\n",
    "y_val_pred = rf_default.predict(x_val)\n",
    "score =  math.sqrt(metrics.mean_squared_error(y_val, y_val_pred))\n",
    "end_time = time.time()\n",
    "\n",
    "summary['random_forest'] = summary['random_forest'].append(pd.Series({\n",
    "    'Time (sec)': '{:.4f}'.format(end_time - start_time), \n",
    "    'Score (RMSE)': score,\n",
    "    'Min. samples split': 2, \n",
    "    'Criterion': 'mse', \n",
    "    'Max. depth': 'None',\n",
    "    'N. estimators': 100,\n",
    "    'Max. features': 1\n",
    "    },\n",
    "    name='default'))"
   ]
  },
  {
   "cell_type": "markdown",
   "metadata": {},
   "source": [
    "### 1.2.2 Hyper-parameter tunning (OPTUNA)"
   ]
  },
  {
   "cell_type": "code",
   "execution_count": 21,
   "metadata": {},
   "outputs": [],
   "source": [
    "min_max_depth = 2\n",
    "max_max_depth = 50\n",
    "min_n_estimators = 50\n",
    "max_n_estimators = 200"
   ]
  },
  {
   "cell_type": "code",
   "execution_count": 22,
   "metadata": {},
   "outputs": [
    {
     "name": "stderr",
     "output_type": "stream",
     "text": [
      "\u001b[32m[I 2021-01-13 14:40:46,203]\u001b[0m A new study created in memory with name: no-name-2663b009-5998-4065-8d0e-10ee2f47a415\u001b[0m\n",
      "\u001b[32m[I 2021-01-13 14:40:48,116]\u001b[0m Trial 0 finished with value: 400.9598210339549 and parameters: {'min_samples_split': 0.2585716150647326, 'criterion': 'mse', 'max_depth': 21, 'n_estimators': 119, 'max_features': 'sqrt'}. Best is trial 0 with value: 400.9598210339549.\u001b[0m\n",
      "\u001b[32m[I 2021-01-13 14:40:48,275]\u001b[0m Trial 1 finished with value: 668.3836578998909 and parameters: {'min_samples_split': 0.7275958768930648, 'criterion': 'mse', 'max_depth': 19, 'n_estimators': 125, 'max_features': 'sqrt'}. Best is trial 0 with value: 400.9598210339549.\u001b[0m\n",
      "\u001b[32m[I 2021-01-13 14:40:48,379]\u001b[0m Trial 2 finished with value: 668.4502497483671 and parameters: {'min_samples_split': 0.9734866223139015, 'criterion': 'mse', 'max_depth': 19, 'n_estimators': 83, 'max_features': 'sqrt'}. Best is trial 0 with value: 400.9598210339549.\u001b[0m\n",
      "\u001b[32m[I 2021-01-13 14:40:48,521]\u001b[0m Trial 3 finished with value: 668.3890217234632 and parameters: {'min_samples_split': 0.9904091845943086, 'criterion': 'mse', 'max_depth': 12, 'n_estimators': 122, 'max_features': 'log2'}. Best is trial 0 with value: 400.9598210339549.\u001b[0m\n",
      "\u001b[32m[I 2021-01-13 14:41:19,220]\u001b[0m Trial 4 finished with value: 424.4919801908068 and parameters: {'min_samples_split': 0.2608742841494963, 'criterion': 'mae', 'max_depth': 44, 'n_estimators': 198, 'max_features': 'log2'}. Best is trial 0 with value: 400.9598210339549.\u001b[0m\n",
      "\u001b[32m[I 2021-01-13 14:41:21,039]\u001b[0m Trial 5 finished with value: 401.3502545053183 and parameters: {'min_samples_split': 0.2735220385298276, 'criterion': 'mse', 'max_depth': 25, 'n_estimators': 125, 'max_features': 'sqrt'}. Best is trial 0 with value: 400.9598210339549.\u001b[0m\n",
      "\u001b[32m[I 2021-01-13 14:42:30,503]\u001b[0m Trial 6 finished with value: 412.5364997638835 and parameters: {'min_samples_split': 0.2726886151779092, 'criterion': 'mae', 'max_depth': 19, 'n_estimators': 168, 'max_features': 'sqrt'}. Best is trial 0 with value: 400.9598210339549.\u001b[0m\n",
      "\u001b[32m[I 2021-01-13 14:43:17,957]\u001b[0m Trial 7 finished with value: 394.1882243101476 and parameters: {'min_samples_split': 0.19324574838516728, 'criterion': 'mse', 'max_depth': 25, 'n_estimators': 124, 'max_features': 'auto'}. Best is trial 7 with value: 394.1882243101476.\u001b[0m\n",
      "\u001b[32m[I 2021-01-13 14:43:18,264]\u001b[0m Trial 8 finished with value: 618.354981330637 and parameters: {'min_samples_split': 0.6373094267217242, 'criterion': 'mse', 'max_depth': 7, 'n_estimators': 150, 'max_features': 'sqrt'}. Best is trial 7 with value: 394.1882243101476.\u001b[0m\n",
      "\u001b[32m[I 2021-01-13 14:43:18,582]\u001b[0m Trial 9 finished with value: 719.4164964060726 and parameters: {'min_samples_split': 0.7003662398026363, 'criterion': 'mae', 'max_depth': 49, 'n_estimators': 138, 'max_features': 'auto'}. Best is trial 7 with value: 394.1882243101476.\u001b[0m\n",
      "\u001b[32m[I 2021-01-13 14:43:57,283]\u001b[0m Trial 10 finished with value: 380.3488406352341 and parameters: {'min_samples_split': 0.02490355296388508, 'criterion': 'mse', 'max_depth': 37, 'n_estimators': 63, 'max_features': 'auto'}. Best is trial 10 with value: 380.3488406352341.\u001b[0m\n",
      "\u001b[32m[I 2021-01-13 14:44:43,805]\u001b[0m Trial 11 finished with value: 377.26906792381976 and parameters: {'min_samples_split': 0.00363889789936404, 'criterion': 'mse', 'max_depth': 37, 'n_estimators': 59, 'max_features': 'auto'}. Best is trial 11 with value: 377.26906792381976.\u001b[0m\n",
      "\u001b[32m[I 2021-01-13 14:45:19,882]\u001b[0m Trial 12 finished with value: 377.5159617676009 and parameters: {'min_samples_split': 0.01066118844432426, 'criterion': 'mse', 'max_depth': 37, 'n_estimators': 53, 'max_features': 'auto'}. Best is trial 11 with value: 377.26906792381976.\u001b[0m\n",
      "\u001b[32m[I 2021-01-13 14:45:55,865]\u001b[0m Trial 13 finished with value: 376.9700103522176 and parameters: {'min_samples_split': 0.005353556937554937, 'criterion': 'mse', 'max_depth': 36, 'n_estimators': 50, 'max_features': 'auto'}. Best is trial 13 with value: 376.9700103522176.\u001b[0m\n",
      "\u001b[32m[I 2021-01-13 14:46:33,163]\u001b[0m Trial 14 finished with value: 394.20574848927464 and parameters: {'min_samples_split': 0.1110851413902727, 'criterion': 'mse', 'max_depth': 34, 'n_estimators': 86, 'max_features': 'auto'}. Best is trial 13 with value: 376.9700103522176.\u001b[0m\n",
      "\u001b[32m[I 2021-01-13 14:46:47,008]\u001b[0m Trial 15 finished with value: 420.15132134218635 and parameters: {'min_samples_split': 0.456175516377316, 'criterion': 'mse', 'max_depth': 32, 'n_estimators': 76, 'max_features': 'auto'}. Best is trial 13 with value: 376.9700103522176.\u001b[0m\n",
      "\u001b[32m[I 2021-01-13 14:53:11,102]\u001b[0m Trial 16 finished with value: 431.99886387099576 and parameters: {'min_samples_split': 0.41452703634839544, 'criterion': 'mae', 'max_depth': 43, 'n_estimators': 53, 'max_features': 'auto'}. Best is trial 13 with value: 376.9700103522176.\u001b[0m\n",
      "\u001b[32m[I 2021-01-13 14:54:12,879]\u001b[0m Trial 17 finished with value: 392.59803315665596 and parameters: {'min_samples_split': 0.09157790021954865, 'criterion': 'mse', 'max_depth': 49, 'n_estimators': 100, 'max_features': 'auto'}. Best is trial 13 with value: 376.9700103522176.\u001b[0m\n",
      "\u001b[32m[I 2021-01-13 14:54:14,452]\u001b[0m Trial 18 finished with value: 375.827967578847 and parameters: {'min_samples_split': 0.005758582581728201, 'criterion': 'mse', 'max_depth': 31, 'n_estimators': 65, 'max_features': 'log2'}. Best is trial 18 with value: 375.827967578847.\u001b[0m\n",
      "\u001b[32m[I 2021-01-13 14:54:15,769]\u001b[0m Trial 19 finished with value: 410.8563146030943 and parameters: {'min_samples_split': 0.13721976657959345, 'criterion': 'mse', 'max_depth': 30, 'n_estimators': 102, 'max_features': 'log2'}. Best is trial 18 with value: 375.827967578847.\u001b[0m\n"
     ]
    }
   ],
   "source": [
    "np.random.seed(random_state)\n",
    "def random_forest_objective(trial):\n",
    "    min_samples_split = trial.suggest_uniform('min_samples_split', 0+sys.float_info.min, 1)\n",
    "    criterion = trial.suggest_categorical('criterion', ['mse','mae'])\n",
    "    max_depth = trial.suggest_int('max_depth', min_max_depth, max_max_depth)\n",
    "    n_estimators = trial.suggest_int('n_estimators', min_n_estimators, max_n_estimators)\n",
    "    max_features = trial.suggest_categorical('max_features', ['auto', 'sqrt', 'log2'])\n",
    "\n",
    "    clf = ensemble.RandomForestRegressor(\n",
    "        random_state=random_state,\n",
    "        min_samples_split=min_samples_split,\n",
    "        criterion=criterion,\n",
    "        max_depth=max_depth,\n",
    "        n_estimators=n_estimators,\n",
    "        max_features=max_features\n",
    "        )\n",
    "    clf = clf.fit(x_train, y_train)\n",
    "    y_val_pred = clf.predict(x_val)\n",
    "    return math.sqrt(metrics.mean_squared_error(y_val, y_val_pred))\n",
    "\n",
    "rf_optuna = optuna.create_study(direction='minimize')\n",
    "start_time = time.time()\n",
    "rf_optuna.optimize(random_forest_objective, n_trials=budget, n_jobs=n_jobs)\n",
    "end_time = time.time()\n",
    "\n",
    "summary['random_forest'] = summary['random_forest'].append(pd.Series({\n",
    "    'Time (sec)': '{:.4f}'.format(end_time - start_time), \n",
    "    'Score (RMSE)': rf_optuna.best_value,\n",
    "    'Min. samples split': rf_optuna.best_params['min_samples_split'], \n",
    "    'Criterion': rf_optuna.best_params['criterion'], \n",
    "    'Max. depth': rf_optuna.best_params['max_depth'],\n",
    "    'N. estimators': rf_optuna.best_params['n_estimators'],\n",
    "    'Max. features': rf_optuna.best_params['max_features']\n",
    "    },\n",
    "    name='optuna'))"
   ]
  },
  {
   "cell_type": "markdown",
   "metadata": {},
   "source": [
    "## 1.3 Gradient Boosting"
   ]
  },
  {
   "cell_type": "markdown",
   "metadata": {},
   "source": [
    "### 1.3.1 Default hyper-parameters"
   ]
  },
  {
   "cell_type": "code",
   "execution_count": 23,
   "metadata": {},
   "outputs": [],
   "source": [
    "# implementation using sklearn\n",
    "np.random.seed(random_state)\n",
    "gb_sk_def = ensemble.GradientBoostingRegressor(random_state=random_state, verbose=verbose)\n",
    "\n",
    "start_time = time.time()\n",
    "gb_sk_def = gb_sk_def.fit(x_train, y_train)\n",
    "y_val_pred = gb_sk_def.predict(x_val)\n",
    "score =  math.sqrt(metrics.mean_squared_error(y_val, y_val_pred))\n",
    "end_time = time.time()\n",
    "\n",
    "summary['gradient_boosting'] = summary['gradient_boosting'].append(pd.Series({\n",
    "    'Time (sec)': '{:.4f}'.format(end_time - start_time), \n",
    "    'Score (RMSE)': score,\n",
    "    'Learning rate': 0.1,\n",
    "    'N. estimators': 100,\n",
    "    'Criterion': 'friedman_mse', \n",
    "    'Min. samples split': 2, \n",
    "    'Min. samples leaf': 1,\n",
    "    'Max. depth': 3,\n",
    "    'Max. leaf nodes': 'None'\n",
    "    },\n",
    "    name='default'))"
   ]
  },
  {
   "cell_type": "code",
   "execution_count": 27,
   "metadata": {},
   "outputs": [],
   "source": [
    "# implementation using xgboost\n",
    "import xgboost as xgb\n",
    "\n",
    "dtrain = xgb.DMatrix(x_train, label=y_train)\n",
    "dtest = xgb.DMatrix(x_test, label=y_test)\n",
    "\n",
    "gb_xgb_def = xgb.XGBRegressor(objective='reg:squarederror')\n",
    "\n",
    "start_time = time.time()\n",
    "gb_xgb_def = gb_xgb_def.fit(x_train, y_train)\n",
    "y_val_pred = gb_xgb_def.predict(x_val)\n",
    "score = math.sqrt(metrics.mean_squared_error(y_val, y_val_pred))\n",
    "end_time = time.time()\n",
    "\n",
    "summary['gradient_boosting'] = summary['gradient_boosting'].append(pd.Series({\n",
    "    'Time (sec)': '{:.4f}'.format(end_time - start_time), \n",
    "    'Score (RMSE)': score,\n",
    "    'Learning rate': 0.3,\n",
    "    'Max. depth': 6,\n",
    "    'Max. leaf nodes': 0,\n",
    "    'Gamma (min_split_loss)': 0,\n",
    "    'Lambda': 1,\n",
    "    'Alpha': 0,\n",
    "    'N. estimators': gb_xgb_def.get_params()['n_estimators']\n",
    "    },\n",
    "    name='default_xgboost'))"
   ]
  },
  {
   "cell_type": "markdown",
   "metadata": {},
   "source": [
    "### 1.3.2 Hyper-parameter tunning"
   ]
  },
  {
   "cell_type": "code",
   "execution_count": 28,
   "metadata": {},
   "outputs": [],
   "source": [
    "#print(dir(dtrain))\n",
    "#print('\\n', dir(model))\n",
    "min_max_leaf_nodes = 2\n",
    "max_max_leaf_nodes = 20\n",
    "min_min_samples_leaf = 1\n",
    "max_min_samples_leaf = 10"
   ]
  },
  {
   "cell_type": "code",
   "execution_count": null,
   "metadata": {},
   "outputs": [],
   "source": [
    "# hyperparam tuning for sklearn ensemble.GradientBoostingRegressor\n",
    "np.random.seed(random_state)\n",
    "\n",
    "def gradboosting_objective(trial):  \n",
    "    gb_sk_opt = None\n",
    "    short = False\n",
    "    \n",
    "    learning_rate = trial.suggest_uniform('learning_rate', 0+sys.float_info.min, 1)\n",
    "    n_estimators = trial.suggest_int('n_estimators', min_n_estimators, max_n_estimators)\n",
    "    min_samples_split = trial.suggest_uniform('min_samples_split', 0+sys.float_info.min, 1)\n",
    "    max_depth = trial.suggest_int('max_depth', min_max_depth, max_max_depth)\n",
    "        \n",
    "    if short == False: # it will take a long time to run \n",
    "        criterion = trial.suggest_categorical('criterion', ['mse','friedman_mse'])\n",
    "        min_samples_leaf = trial.suggest_int('min_samples_leaf',min_min_samples_leaf, max_min_samples_leaf)\n",
    "        max_leaf_nodes = trial.suggest_int('max_leaf_nodes', min_max_leaf_nodes, max_max_leaf_nodes)\n",
    "        \n",
    "        gb_sk_opt = ensemble.GradientBoostingRegressor(learning_rate=learning_rate, \n",
    "                                                   n_estimators=n_estimators,\n",
    "                                                   criterion=criterion,\n",
    "                                                   min_samples_split=min_samples_split,\n",
    "                                                   min_samples_leaf=min_samples_leaf,\n",
    "                                                   max_depth=max_depth,\n",
    "                                                   max_leaf_nodes=max_leaf_nodes,\n",
    "                                                   random_state=random_state,\n",
    "                                                   verbose=verbose)\n",
    "    else:  # will take less time        \n",
    "        gb_sk_opt = ensemble.GradientBoostingRegressor(learning_rate=learning_rate, \n",
    "                                                   n_estimators=n_estimators,\n",
    "                                                   min_samples_split=min_samples_split,\n",
    "                                                   max_depth=max_depth,\n",
    "                                                   random_state=random_state,\n",
    "                                                   verbose=verbose)\n",
    "        \n",
    "    gb_sk_opt = gb_sk_opt.fit(x_train, y_train)\n",
    "    y_val_pred = gb_sk_opt.predict(x_val)\n",
    "    \n",
    "    return math.sqrt(metrics.mean_squared_error(y_val, y_val_pred))\n",
    "\n",
    "gb_optuna = optuna.create_study(direction='minimize')\n",
    "start_time = time.time()\n",
    "gb_optuna.optimize(gradboosting_objective, n_trials=budget)\n",
    "end_time = time.time()\n",
    "\n",
    "summary['gradient_boosting'] = summary['gradient_boosting'].append(pd.Series({\n",
    "    'Time (sec)': '{:.4f}'.format(end_time - start_time), \n",
    "    'Score (RMSE)': gb_optuna.best_value,\n",
    "    'Learning rate': gb_optuna.best_params['learning_rate'],\n",
    "    'N. estimators': gb_optuna.best_params['n_estimators'],\n",
    "    'Criterion': 'friedman_mse', \n",
    "    #Min. samples split': gb_optuna.best_params['min_samples_split'], \n",
    "    'Min. samples leaf': gb_optuna.best_params['min_samples_leaf'],\n",
    "    'Min. samples leaf': 1,\n",
    "    'Max. depth': gb_optuna.best_params['max_depth'],\n",
    "    #Max. leaf nodes': 'None'\n",
    "    'Max. leaf nodes': gb_optuna.best_params['max_leaf_nodes']\n",
    "    },\n",
    "    name='optuna_sklearn'))"
   ]
  },
  {
   "cell_type": "code",
   "execution_count": 30,
   "metadata": {},
   "outputs": [
    {
     "name": "stderr",
     "output_type": "stream",
     "text": [
      "\u001b[32m[I 2021-01-13 15:25:21,347]\u001b[0m A new study created in memory with name: no-name-3f72ac32-38db-40a7-9172-274b9088f72a\u001b[0m\n",
      "\u001b[32m[I 2021-01-13 15:25:30,302]\u001b[0m Trial 0 finished with value: 409.80286980982993 and parameters: {'lambda': 0.3207145560099033, 'alpha': 0.12901374278798036, 'gamma': 0.9298885956847187, 'eta': 0.11878362557748356, 'max_depth': 19, 'max_leaves': 20, 'n_estimators': 87}. Best is trial 0 with value: 409.80286980982993.\u001b[0m\n",
      "\u001b[32m[I 2021-01-13 15:25:38,446]\u001b[0m Trial 1 finished with value: 409.80286980982993 and parameters: {'lambda': 0.39229298850004907, 'alpha': 0.29383473771735485, 'gamma': 0.5275541655847883, 'eta': 0.12001232732053646, 'max_depth': 24, 'max_leaves': 15, 'n_estimators': 132}. Best is trial 0 with value: 409.80286980982993.\u001b[0m\n",
      "\u001b[32m[I 2021-01-13 15:25:48,225]\u001b[0m Trial 2 finished with value: 409.80286980982993 and parameters: {'lambda': 0.14139686492911407, 'alpha': 0.42492610165887745, 'gamma': 0.5103158692669374, 'eta': 0.7319981991696786, 'max_depth': 16, 'max_leaves': 2, 'n_estimators': 53}. Best is trial 0 with value: 409.80286980982993.\u001b[0m\n",
      "\u001b[32m[I 2021-01-13 15:25:56,860]\u001b[0m Trial 3 finished with value: 409.80286980982993 and parameters: {'lambda': 0.3185127063645649, 'alpha': 0.366155582548077, 'gamma': 0.4499541436813134, 'eta': 0.6294764034774364, 'max_depth': 19, 'max_leaves': 15, 'n_estimators': 74}. Best is trial 0 with value: 409.80286980982993.\u001b[0m\n",
      "\u001b[32m[I 2021-01-13 15:26:05,915]\u001b[0m Trial 4 finished with value: 409.80286980982993 and parameters: {'lambda': 0.37832004581719875, 'alpha': 0.29984334876336877, 'gamma': 0.03888948841512326, 'eta': 0.7848464563531806, 'max_depth': 39, 'max_leaves': 11, 'n_estimators': 124}. Best is trial 0 with value: 409.80286980982993.\u001b[0m\n",
      "\u001b[32m[I 2021-01-13 15:26:17,415]\u001b[0m Trial 5 finished with value: 409.80286980982993 and parameters: {'lambda': 0.4320938085679657, 'alpha': 0.1113334330834689, 'gamma': 0.9815064904958393, 'eta': 0.6883344061478041, 'max_depth': 11, 'max_leaves': 20, 'n_estimators': 123}. Best is trial 0 with value: 409.80286980982993.\u001b[0m\n",
      "\u001b[32m[I 2021-01-13 15:26:25,753]\u001b[0m Trial 6 finished with value: 409.80286980982993 and parameters: {'lambda': 0.47702125696440795, 'alpha': 0.02459109322125457, 'gamma': 0.9851031517845038, 'eta': 0.6637130211611839, 'max_depth': 48, 'max_leaves': 13, 'n_estimators': 155}. Best is trial 0 with value: 409.80286980982993.\u001b[0m\n",
      "\u001b[32m[I 2021-01-13 15:26:37,120]\u001b[0m Trial 7 finished with value: 409.80286980982993 and parameters: {'lambda': 0.2981028137606202, 'alpha': 0.06315977561116733, 'gamma': 0.8947297811337702, 'eta': 0.7471051618758126, 'max_depth': 15, 'max_leaves': 7, 'n_estimators': 167}. Best is trial 0 with value: 409.80286980982993.\u001b[0m\n",
      "\u001b[32m[I 2021-01-13 15:26:46,085]\u001b[0m Trial 8 finished with value: 409.80286980982993 and parameters: {'lambda': 0.450502762891965, 'alpha': 0.05266941943427161, 'gamma': 0.17100610344062603, 'eta': 0.10108032238495923, 'max_depth': 24, 'max_leaves': 12, 'n_estimators': 154}. Best is trial 0 with value: 409.80286980982993.\u001b[0m\n",
      "\u001b[32m[I 2021-01-13 15:26:55,467]\u001b[0m Trial 9 finished with value: 409.80286980982993 and parameters: {'lambda': 0.2819917801708498, 'alpha': 0.18417072827785955, 'gamma': 0.9889277273449391, 'eta': 0.2942728746155967, 'max_depth': 9, 'max_leaves': 6, 'n_estimators': 143}. Best is trial 0 with value: 409.80286980982993.\u001b[0m\n",
      "\u001b[32m[I 2021-01-13 15:27:05,467]\u001b[0m Trial 10 finished with value: 409.80286980982993 and parameters: {'lambda': 0.15174531452932333, 'alpha': 0.18004739667161287, 'gamma': 0.7403408724826136, 'eta': 0.38729218631391066, 'max_depth': 2, 'max_leaves': 20, 'n_estimators': 92}. Best is trial 0 with value: 409.80286980982993.\u001b[0m\n",
      "\u001b[32m[I 2021-01-13 15:27:13,776]\u001b[0m Trial 11 finished with value: 409.80286980982993 and parameters: {'lambda': 0.02112723776855413, 'alpha': 0.26147070090208185, 'gamma': 0.6296804550973127, 'eta': 0.019753143385003558, 'max_depth': 32, 'max_leaves': 17, 'n_estimators': 199}. Best is trial 0 with value: 409.80286980982993.\u001b[0m\n",
      "\u001b[32m[I 2021-01-13 15:27:23,378]\u001b[0m Trial 12 finished with value: 409.80286980982993 and parameters: {'lambda': 0.19149690027292948, 'alpha': 0.17682925669873506, 'gamma': 0.2985486576449675, 'eta': 0.19002450449339903, 'max_depth': 26, 'max_leaves': 17, 'n_estimators': 96}. Best is trial 0 with value: 409.80286980982993.\u001b[0m\n",
      "\u001b[32m[I 2021-01-13 15:27:41,806]\u001b[0m Trial 13 finished with value: 409.80286980982993 and parameters: {'lambda': 0.35074243121974463, 'alpha': 0.34083982692838266, 'gamma': 0.8090952874596471, 'eta': 0.9740284749956306, 'max_depth': 32, 'max_leaves': 18, 'n_estimators': 90}. Best is trial 0 with value: 409.80286980982993.\u001b[0m\n",
      "\u001b[32m[I 2021-01-13 15:27:56,070]\u001b[0m Trial 14 finished with value: 409.80286980982993 and parameters: {'lambda': 0.3873972913856185, 'alpha': 0.46323737206107163, 'gamma': 0.6143092586935244, 'eta': 2.30811515980478e-05, 'max_depth': 2, 'max_leaves': 15, 'n_estimators': 57}. Best is trial 0 with value: 409.80286980982993.\u001b[0m\n",
      "\u001b[32m[I 2021-01-13 15:28:05,592]\u001b[0m Trial 15 finished with value: 409.80286980982993 and parameters: {'lambda': 0.23618851078220224, 'alpha': 0.2334966202937585, 'gamma': 0.34224434277121324, 'eta': 0.2242665288580426, 'max_depth': 25, 'max_leaves': 20, 'n_estimators': 109}. Best is trial 0 with value: 409.80286980982993.\u001b[0m\n",
      "\u001b[32m[I 2021-01-13 15:28:14,027]\u001b[0m Trial 16 finished with value: 409.80286980982993 and parameters: {'lambda': 0.4987386815687969, 'alpha': 0.12771814007031923, 'gamma': 0.759295173160021, 'eta': 0.4880277567237179, 'max_depth': 32, 'max_leaves': 8, 'n_estimators': 178}. Best is trial 0 with value: 409.80286980982993.\u001b[0m\n",
      "\u001b[32m[I 2021-01-13 15:28:22,249]\u001b[0m Trial 17 finished with value: 409.80286980982993 and parameters: {'lambda': 0.24183839961972822, 'alpha': 0.49709277703641386, 'gamma': 0.6716059774918888, 'eta': 0.006195364760597733, 'max_depth': 6, 'max_leaves': 14, 'n_estimators': 52}. Best is trial 0 with value: 409.80286980982993.\u001b[0m\n",
      "\u001b[32m[I 2021-01-13 15:28:31,270]\u001b[0m Trial 18 finished with value: 409.80286980982993 and parameters: {'lambda': 0.062825891194001, 'alpha': 0.2137287967600658, 'gamma': 0.3372810075323761, 'eta': 0.27940692437939824, 'max_depth': 39, 'max_leaves': 20, 'n_estimators': 108}. Best is trial 0 with value: 409.80286980982993.\u001b[0m\n",
      "\u001b[32m[I 2021-01-13 15:28:40,403]\u001b[0m Trial 19 finished with value: 409.80286980982993 and parameters: {'lambda': 0.4908728557604661, 'alpha': 0.12930382259049042, 'gamma': 0.8255163841465046, 'eta': 0.522038340021748, 'max_depth': 33, 'max_leaves': 8, 'n_estimators': 192}. Best is trial 0 with value: 409.80286980982993.\u001b[0m\n"
     ]
    }
   ],
   "source": [
    "def xgradboosting_objective(trial):  \n",
    "    \n",
    "    param = {\n",
    "        'booster': 'gbtree',\n",
    "        #'lambda': trial.suggest_loguniform('lambda', 1e-8, 1.0),\n",
    "        #'alpha': trial.suggest_uniform('alpha', 0+sys.float_info.min, 1),\n",
    "        #'gamma': trial.suggest_loguniform('gamma', 1e-8, 1.0),\n",
    "        'lambda': trial.suggest_uniform('lambda', 0.01, 0.5),\n",
    "        'alpha': trial.suggest_uniform('alpha', 0.01, 0.5),\n",
    "        'gamma': trial.suggest_float('gamma', 0.01, 1.0),\n",
    "        'eta': trial.suggest_uniform('eta', 0+sys.float_info.min, 1.0),\n",
    "        'max_depth': trial.suggest_int('max_depth', min_max_depth, max_max_depth),\n",
    "        'max_leaves': trial.suggest_int('max_leaves', min_max_leaf_nodes, max_max_leaf_nodes),\n",
    "        'n_estimators': trial.suggest_int('n_estimators', min_n_estimators, max_n_estimators)\n",
    "    }\n",
    "\n",
    "    gb_xgb_opt = xgb.XGBRegressor(param=param, \n",
    "                                  objective='reg:squarederror',\n",
    "                                  verbosity=verbose,\n",
    "                                  random_state=random_state\n",
    "                                 )\n",
    "\n",
    "    gb_xgb_opt = gb_xgb_opt.fit(x_train, y_train)\n",
    "    y_val_pred = gb_xgb_opt.predict(x_val)\n",
    "    \n",
    "    return math.sqrt(metrics.mean_squared_error(y_val, y_val_pred))\n",
    "\n",
    "\n",
    "gb_optuna = optuna.create_study(direction='minimize')\n",
    "start_time = time.time()\n",
    "gb_optuna.optimize(xgradboosting_objective, n_trials=budget)\n",
    "end_time = time.time()\n",
    "\n",
    "summary['gradient_boosting'] = summary['gradient_boosting'].append(pd.Series({\n",
    "    'Time (sec)': '{:.4f}'.format(end_time - start_time), \n",
    "    'Score (RMSE)': gb_optuna.best_value,\n",
    "    'Learning rate': gb_optuna.best_params['eta'],\n",
    "    'Max. depth': gb_optuna.best_params['max_depth'],\n",
    "    'Max. leaf nodes': gb_optuna.best_params['max_leaves'],\n",
    "    'Gamma (min_split_loss)': gb_optuna.best_params['gamma'],\n",
    "    'Lambda': gb_optuna.best_params['lambda'],\n",
    "    'Alpha': gb_optuna.best_params['alpha'],\n",
    "    'N. estimators': gb_optuna.best_params['n_estimators']  \n",
    "    },\n",
    "    name='optuna_xgboost'))"
   ]
  },
  {
   "cell_type": "code",
   "execution_count": 21,
   "metadata": {},
   "outputs": [
    {
     "data": {
      "text/html": [
       "<div>\n",
       "<style scoped>\n",
       "    .dataframe tbody tr th:only-of-type {\n",
       "        vertical-align: middle;\n",
       "    }\n",
       "\n",
       "    .dataframe tbody tr th {\n",
       "        vertical-align: top;\n",
       "    }\n",
       "\n",
       "    .dataframe thead th {\n",
       "        text-align: right;\n",
       "    }\n",
       "</style>\n",
       "<table border=\"1\" class=\"dataframe\">\n",
       "  <thead>\n",
       "    <tr style=\"text-align: right;\">\n",
       "      <th></th>\n",
       "      <th>Time (sec)</th>\n",
       "      <th>Score (RMSE)</th>\n",
       "      <th>N. neighbors</th>\n",
       "      <th>Weights</th>\n",
       "      <th>P</th>\n",
       "    </tr>\n",
       "  </thead>\n",
       "  <tbody>\n",
       "    <tr>\n",
       "      <th>default</th>\n",
       "      <td>0.1176</td>\n",
       "      <td>455.123868</td>\n",
       "      <td>5</td>\n",
       "      <td>uniform</td>\n",
       "      <td>2</td>\n",
       "    </tr>\n",
       "    <tr>\n",
       "      <th>optuna</th>\n",
       "      <td>33.7278</td>\n",
       "      <td>424.954880</td>\n",
       "      <td>11</td>\n",
       "      <td>distance</td>\n",
       "      <td>1</td>\n",
       "    </tr>\n",
       "  </tbody>\n",
       "</table>\n",
       "</div>"
      ],
      "text/plain": [
       "        Time (sec)  Score (RMSE) N. neighbors   Weights  P\n",
       "default     0.1176    455.123868            5   uniform  2\n",
       "optuna     33.7278    424.954880           11  distance  1"
      ]
     },
     "execution_count": 21,
     "metadata": {},
     "output_type": "execute_result"
    }
   ],
   "source": [
    "summary['knn']"
   ]
  },
  {
   "cell_type": "code",
   "execution_count": 48,
   "metadata": {},
   "outputs": [
    {
     "data": {
      "text/html": [
       "<div>\n",
       "<style scoped>\n",
       "    .dataframe tbody tr th:only-of-type {\n",
       "        vertical-align: middle;\n",
       "    }\n",
       "\n",
       "    .dataframe tbody tr th {\n",
       "        vertical-align: top;\n",
       "    }\n",
       "\n",
       "    .dataframe thead th {\n",
       "        text-align: right;\n",
       "    }\n",
       "</style>\n",
       "<table border=\"1\" class=\"dataframe\">\n",
       "  <thead>\n",
       "    <tr style=\"text-align: right;\">\n",
       "      <th></th>\n",
       "      <th>Time (sec)</th>\n",
       "      <th>Score (RMSE)</th>\n",
       "      <th>Min. samples split</th>\n",
       "      <th>Criterion</th>\n",
       "      <th>Max. depth</th>\n",
       "      <th>N. estimators</th>\n",
       "      <th>Max. features</th>\n",
       "    </tr>\n",
       "  </thead>\n",
       "  <tbody>\n",
       "    <tr>\n",
       "      <th>default</th>\n",
       "      <td>82.5335</td>\n",
       "      <td>375.560721</td>\n",
       "      <td>2</td>\n",
       "      <td>mse</td>\n",
       "      <td>None</td>\n",
       "      <td>100</td>\n",
       "      <td>1</td>\n",
       "    </tr>\n",
       "    <tr>\n",
       "      <th>optuna</th>\n",
       "      <td>233.6654</td>\n",
       "      <td>374.129312</td>\n",
       "      <td>0.00872</td>\n",
       "      <td>mse</td>\n",
       "      <td>None</td>\n",
       "      <td>171</td>\n",
       "      <td>0.667976</td>\n",
       "    </tr>\n",
       "    <tr>\n",
       "      <th>optuna</th>\n",
       "      <td>1031.8257</td>\n",
       "      <td>373.977008</td>\n",
       "      <td>0.00742</td>\n",
       "      <td>mae</td>\n",
       "      <td>NaN</td>\n",
       "      <td>101</td>\n",
       "      <td>sqrt</td>\n",
       "    </tr>\n",
       "  </tbody>\n",
       "</table>\n",
       "</div>"
      ],
      "text/plain": [
       "        Time (sec)  Score (RMSE) Min. samples split Criterion Max. depth  \\\n",
       "default    82.5335    375.560721                  2       mse       None   \n",
       "optuna    233.6654    374.129312            0.00872       mse       None   \n",
       "optuna   1031.8257    373.977008            0.00742       mae        NaN   \n",
       "\n",
       "        N. estimators Max. features  \n",
       "default           100             1  \n",
       "optuna            171      0.667976  \n",
       "optuna            101          sqrt  "
      ]
     },
     "execution_count": 48,
     "metadata": {},
     "output_type": "execute_result"
    }
   ],
   "source": [
    "summary['random_forest']"
   ]
  },
  {
   "cell_type": "code",
   "execution_count": 31,
   "metadata": {},
   "outputs": [
    {
     "data": {
      "text/html": [
       "<div>\n",
       "<style scoped>\n",
       "    .dataframe tbody tr th:only-of-type {\n",
       "        vertical-align: middle;\n",
       "    }\n",
       "\n",
       "    .dataframe tbody tr th {\n",
       "        vertical-align: top;\n",
       "    }\n",
       "\n",
       "    .dataframe thead th {\n",
       "        text-align: right;\n",
       "    }\n",
       "</style>\n",
       "<table border=\"1\" class=\"dataframe\">\n",
       "  <thead>\n",
       "    <tr style=\"text-align: right;\">\n",
       "      <th></th>\n",
       "      <th>Time (sec)</th>\n",
       "      <th>Score (RMSE)</th>\n",
       "      <th>Criterion</th>\n",
       "      <th>Learning rate</th>\n",
       "      <th>Max. depth</th>\n",
       "      <th>Max. leaf nodes</th>\n",
       "      <th>Min. samples leaf</th>\n",
       "      <th>Min. samples split</th>\n",
       "      <th>N. estimators</th>\n",
       "      <th>Alpha</th>\n",
       "      <th>Gamma (min_split_loss)</th>\n",
       "      <th>Lambda</th>\n",
       "    </tr>\n",
       "  </thead>\n",
       "  <tbody>\n",
       "    <tr>\n",
       "      <th>default</th>\n",
       "      <td>48.0549</td>\n",
       "      <td>389.223359</td>\n",
       "      <td>friedman_mse</td>\n",
       "      <td>0.100000</td>\n",
       "      <td>3.0</td>\n",
       "      <td>None</td>\n",
       "      <td>1.0</td>\n",
       "      <td>2.0</td>\n",
       "      <td>100.0</td>\n",
       "      <td>NaN</td>\n",
       "      <td>NaN</td>\n",
       "      <td>NaN</td>\n",
       "    </tr>\n",
       "    <tr>\n",
       "      <th>default_xgboost</th>\n",
       "      <td>8.5909</td>\n",
       "      <td>409.802870</td>\n",
       "      <td>NaN</td>\n",
       "      <td>0.300000</td>\n",
       "      <td>6.0</td>\n",
       "      <td>0</td>\n",
       "      <td>NaN</td>\n",
       "      <td>NaN</td>\n",
       "      <td>100.0</td>\n",
       "      <td>0.000000</td>\n",
       "      <td>0.000000</td>\n",
       "      <td>1.000000</td>\n",
       "    </tr>\n",
       "    <tr>\n",
       "      <th>optuna_xgboost</th>\n",
       "      <td>199.0509</td>\n",
       "      <td>409.802870</td>\n",
       "      <td>NaN</td>\n",
       "      <td>0.118784</td>\n",
       "      <td>19.0</td>\n",
       "      <td>20</td>\n",
       "      <td>NaN</td>\n",
       "      <td>NaN</td>\n",
       "      <td>87.0</td>\n",
       "      <td>0.129014</td>\n",
       "      <td>0.929889</td>\n",
       "      <td>0.320715</td>\n",
       "    </tr>\n",
       "  </tbody>\n",
       "</table>\n",
       "</div>"
      ],
      "text/plain": [
       "                Time (sec)  Score (RMSE)     Criterion  Learning rate  \\\n",
       "default            48.0549    389.223359  friedman_mse       0.100000   \n",
       "default_xgboost     8.5909    409.802870           NaN       0.300000   \n",
       "optuna_xgboost    199.0509    409.802870           NaN       0.118784   \n",
       "\n",
       "                 Max. depth Max. leaf nodes  Min. samples leaf  \\\n",
       "default                 3.0            None                1.0   \n",
       "default_xgboost         6.0               0                NaN   \n",
       "optuna_xgboost         19.0              20                NaN   \n",
       "\n",
       "                 Min. samples split  N. estimators     Alpha  \\\n",
       "default                         2.0          100.0       NaN   \n",
       "default_xgboost                 NaN          100.0  0.000000   \n",
       "optuna_xgboost                  NaN           87.0  0.129014   \n",
       "\n",
       "                 Gamma (min_split_loss)    Lambda  \n",
       "default                             NaN       NaN  \n",
       "default_xgboost                0.000000  1.000000  \n",
       "optuna_xgboost                 0.929889  0.320715  "
      ]
     },
     "execution_count": 31,
     "metadata": {},
     "output_type": "execute_result"
    }
   ],
   "source": [
    "summary['gradient_boosting']"
   ]
  },
  {
   "cell_type": "code",
   "execution_count": 32,
   "metadata": {},
   "outputs": [
    {
     "data": {
      "text/plain": [
       "666.6691142412727"
      ]
     },
     "execution_count": 32,
     "metadata": {},
     "output_type": "execute_result"
    }
   ],
   "source": [
    "#Dummy regressor(mean)\n",
    "math.sqrt(metrics.mean_squared_error(y_val, [y_val.mean() for i in range(len(y_val))]))"
   ]
  },
  {
   "cell_type": "markdown",
   "metadata": {},
   "source": [
    "# 2. ATTRIBUTE SELECTION"
   ]
  },
  {
   "cell_type": "markdown",
   "metadata": {},
   "source": [
    "## 2.1 Select from all attributes\n",
    "\n",
    "**Are all 550 input attributes actually necessary in order to get a good model? Is it possible to have an accurate model that uses fewer than 550 variables? How many?**\n",
    "\n",
    "For this question we will be using the best model we had in previous section and now include the parameter for select only certain attributes."
   ]
  },
  {
   "cell_type": "code",
   "execution_count": 12,
   "metadata": {},
   "outputs": [],
   "source": [
    "min_max_depth = 2\n",
    "max_max_depth = 15\n",
    "min_n_estimators = 50\n",
    "max_n_estimators = 200\n",
    "min_n_k = 10\n",
    "max_n_k = 30"
   ]
  },
  {
   "cell_type": "code",
   "execution_count": 13,
   "metadata": {},
   "outputs": [
    {
     "name": "stderr",
     "output_type": "stream",
     "text": [
      "\u001b[32m[I 2021-01-13 13:59:52,067]\u001b[0m A new study created in memory with name: no-name-f677b493-b3e6-48bb-87d6-43f34315514d\u001b[0m\n",
      "\u001b[32m[I 2021-01-13 14:00:57,538]\u001b[0m Trial 0 finished with value: 444.03711882821585 and parameters: {'k': 59, 'min_samples_split': 0.31820927889533557, 'criterion': 'mae', 'max_depth': 15, 'n_estimators': 77, 'max_features': 'auto'}. Best is trial 0 with value: 444.03711882821585.\u001b[0m\n",
      "\u001b[32m[I 2021-01-13 14:00:58,050]\u001b[0m Trial 1 finished with value: 719.5022353639617 and parameters: {'k': 51, 'min_samples_split': 0.6987448939434953, 'criterion': 'mae', 'max_depth': 4, 'n_estimators': 176, 'max_features': 'auto'}. Best is trial 0 with value: 444.03711882821585.\u001b[0m\n",
      "\u001b[32m[I 2021-01-13 14:00:58,225]\u001b[0m Trial 2 finished with value: 668.4403422905759 and parameters: {'k': 188, 'min_samples_split': 0.8572131246824229, 'criterion': 'mse', 'max_depth': 2, 'n_estimators': 106, 'max_features': 'auto'}. Best is trial 0 with value: 444.03711882821585.\u001b[0m\n",
      "\u001b[32m[I 2021-01-13 14:03:25,676]\u001b[0m Trial 3 finished with value: 504.5863099089383 and parameters: {'k': 239, 'min_samples_split': 0.5580079987140251, 'criterion': 'mae', 'max_depth': 2, 'n_estimators': 86, 'max_features': 'auto'}. Best is trial 0 with value: 444.03711882821585.\u001b[0m\n",
      "\u001b[32m[I 2021-01-13 14:03:55,160]\u001b[0m Trial 4 finished with value: 429.23863688331056 and parameters: {'k': 252, 'min_samples_split': 0.414790192921739, 'criterion': 'mae', 'max_depth': 9, 'n_estimators': 156, 'max_features': 'sqrt'}. Best is trial 4 with value: 429.23863688331056.\u001b[0m\n",
      "\u001b[32m[I 2021-01-13 14:03:55,630]\u001b[0m Trial 5 finished with value: 528.2748767736183 and parameters: {'k': 180, 'min_samples_split': 0.6169346723309619, 'criterion': 'mse', 'max_depth': 7, 'n_estimators': 163, 'max_features': 'sqrt'}. Best is trial 4 with value: 429.23863688331056.\u001b[0m\n",
      "\u001b[32m[I 2021-01-13 14:03:55,724]\u001b[0m Trial 6 finished with value: 664.6526562333632 and parameters: {'k': 132, 'min_samples_split': 0.6470797517086144, 'criterion': 'mse', 'max_depth': 28, 'n_estimators': 54, 'max_features': 'sqrt'}. Best is trial 4 with value: 429.23863688331056.\u001b[0m\n",
      "\u001b[32m[I 2021-01-13 14:03:56,177]\u001b[0m Trial 7 finished with value: 508.41769478034865 and parameters: {'k': 178, 'min_samples_split': 0.5544594994309043, 'criterion': 'mse', 'max_depth': 21, 'n_estimators': 181, 'max_features': 'log2'}. Best is trial 4 with value: 429.23863688331056.\u001b[0m\n",
      "\u001b[32m[I 2021-01-13 14:04:19,414]\u001b[0m Trial 8 finished with value: 457.5337259369224 and parameters: {'k': 191, 'min_samples_split': 0.13384702543508287, 'criterion': 'mae', 'max_depth': 3, 'n_estimators': 143, 'max_features': 'sqrt'}. Best is trial 4 with value: 429.23863688331056.\u001b[0m\n",
      "\u001b[32m[I 2021-01-13 14:04:44,059]\u001b[0m Trial 9 finished with value: 428.7503186915439 and parameters: {'k': 236, 'min_samples_split': 0.0352297665222594, 'criterion': 'mae', 'max_depth': 3, 'n_estimators': 128, 'max_features': 'sqrt'}. Best is trial 9 with value: 428.7503186915439.\u001b[0m\n",
      "\u001b[32m[I 2021-01-13 14:04:55,520]\u001b[0m Trial 10 finished with value: 440.486065220071 and parameters: {'k': 111, 'min_samples_split': 0.08177742159457267, 'criterion': 'mae', 'max_depth': 4, 'n_estimators': 123, 'max_features': 'log2'}. Best is trial 9 with value: 428.7503186915439.\u001b[0m\n",
      "\u001b[32m[I 2021-01-13 14:05:33,407]\u001b[0m Trial 11 finished with value: 413.210766994515 and parameters: {'k': 273, 'min_samples_split': 0.3102503141152435, 'criterion': 'mae', 'max_depth': 9, 'n_estimators': 145, 'max_features': 'sqrt'}. Best is trial 11 with value: 413.210766994515.\u001b[0m\n",
      "\u001b[32m[I 2021-01-13 14:06:12,700]\u001b[0m Trial 12 finished with value: 414.8095303847707 and parameters: {'k': 266, 'min_samples_split': 0.23622935719523852, 'criterion': 'mae', 'max_depth': 11, 'n_estimators': 133, 'max_features': 'sqrt'}. Best is trial 11 with value: 413.210766994515.\u001b[0m\n",
      "\u001b[32m[I 2021-01-13 14:06:50,756]\u001b[0m Trial 13 finished with value: 413.7885828739367 and parameters: {'k': 271, 'min_samples_split': 0.26940567473030785, 'criterion': 'mae', 'max_depth': 12, 'n_estimators': 134, 'max_features': 'sqrt'}. Best is trial 11 with value: 413.210766994515.\u001b[0m\n",
      "\u001b[32m[I 2021-01-13 14:07:36,348]\u001b[0m Trial 14 finished with value: 420.7151876526134 and parameters: {'k': 271, 'min_samples_split': 0.36228216108641814, 'criterion': 'mae', 'max_depth': 14, 'n_estimators': 199, 'max_features': 'sqrt'}. Best is trial 11 with value: 413.210766994515.\u001b[0m\n",
      "\u001b[32m[I 2021-01-13 14:08:02,266]\u001b[0m Trial 15 finished with value: 430.9361850463441 and parameters: {'k': 217, 'min_samples_split': 0.23105468459545253, 'criterion': 'mae', 'max_depth': 6, 'n_estimators': 109, 'max_features': 'sqrt'}. Best is trial 11 with value: 413.210766994515.\u001b[0m\n",
      "\u001b[32m[I 2021-01-13 14:08:16,902]\u001b[0m Trial 16 finished with value: 441.8005297382076 and parameters: {'k': 272, 'min_samples_split': 0.4425683377434313, 'criterion': 'mae', 'max_depth': 22, 'n_estimators': 151, 'max_features': 'log2'}. Best is trial 11 with value: 413.210766994515.\u001b[0m\n",
      "\u001b[32m[I 2021-01-13 14:08:34,439]\u001b[0m Trial 17 finished with value: 438.8438489165108 and parameters: {'k': 99, 'min_samples_split': 0.19794144217269088, 'criterion': 'mae', 'max_depth': 7, 'n_estimators': 107, 'max_features': 'sqrt'}. Best is trial 11 with value: 413.210766994515.\u001b[0m\n",
      "\u001b[32m[I 2021-01-13 14:09:17,801]\u001b[0m Trial 18 finished with value: 435.2179382678843 and parameters: {'k': 216, 'min_samples_split': 0.30966457509084183, 'criterion': 'mae', 'max_depth': 14, 'n_estimators': 195, 'max_features': 'sqrt'}. Best is trial 11 with value: 413.210766994515.\u001b[0m\n",
      "\u001b[32m[I 2021-01-13 14:09:39,774]\u001b[0m Trial 19 finished with value: 471.58824124177477 and parameters: {'k': 155, 'min_samples_split': 0.48048219338820686, 'criterion': 'mae', 'max_depth': 10, 'n_estimators': 167, 'max_features': 'sqrt'}. Best is trial 11 with value: 413.210766994515.\u001b[0m\n"
     ]
    },
    {
     "name": "stdout",
     "output_type": "stream",
     "text": [
      "587.7053737640381\n"
     ]
    }
   ],
   "source": [
    "np.random.seed(random_state)\n",
    "def random_forest_objective_attr(trial):\n",
    "    k = trial.suggest_int('k', min_n_k, max_n_k)\n",
    "    min_samples_split = trial.suggest_uniform('min_samples_split', 0+sys.float_info.min, 1)\n",
    "    criterion = trial.suggest_categorical('criterion', ['mse','mae'])\n",
    "    max_depth = trial.suggest_int('max_depth', min_max_depth, max_max_depth, log=True)\n",
    "    n_estimators = trial.suggest_int('n_estimators', min_n_estimators, max_n_estimators)\n",
    "    max_features = trial.suggest_categorical('max_features', ['auto', 'sqrt', 'log2'])\n",
    "\n",
    "    clf = Pipeline([\n",
    "      ('feature_selection', feature_selection.SelectKBest(feature_selection.f_regression, k=k)),\n",
    "      ('regression', ensemble.RandomForestRegressor(\n",
    "          random_state=random_state,\n",
    "          min_samples_split=min_samples_split,\n",
    "          criterion=criterion,\n",
    "          max_depth=max_depth,\n",
    "          n_estimators=n_estimators,\n",
    "          max_features=max_features\n",
    "      ))\n",
    "    ])\n",
    "\n",
    "    clf = clf.fit(x_train, y_train)\n",
    "    y_val_pred = clf.predict(x_val)\n",
    "    return math.sqrt(metrics.mean_squared_error(y_val, y_val_pred))\n",
    "\n",
    "rf_attr_optuna = optuna.create_study(direction='minimize')\n",
    "start_time = time.time()\n",
    "rf_attr_optuna.optimize(random_forest_objective_attr, n_trials=budget, n_jobs=n_jobs)\n",
    "end_time = time.time()\n",
    "print(end_time-start_time)"
   ]
  },
  {
   "cell_type": "code",
   "execution_count": 14,
   "metadata": {},
   "outputs": [
    {
     "name": "stdout",
     "output_type": "stream",
     "text": [
      "{'k': 273, 'min_samples_split': 0.3102503141152435, 'criterion': 'mae', 'max_depth': 9, 'n_estimators': 145, 'max_features': 'sqrt'} 413.210766994515\n"
     ]
    }
   ],
   "source": [
    "#TODO: Conclusions\n",
    "print(rf_attr_optuna.best_params, rf_attr_optuna.best_value)"
   ]
  },
  {
   "cell_type": "markdown",
   "metadata": {},
   "source": [
    "## 2.2 Use only Sotavento attributes\n",
    "**Is it enough to use only the attributes for the actual Sotavento location? (13th location in the grid)**\n",
    "\n",
    "We will select only Sotavento attributes and use the best model in previous section to train a model."
   ]
  },
  {
   "cell_type": "code",
   "execution_count": 15,
   "metadata": {},
   "outputs": [
    {
     "name": "stdout",
     "output_type": "stream",
     "text": [
      "(2528, 22) (1299, 22) (2110, 22)\n"
     ]
    }
   ],
   "source": [
    "sot_attr = []\n",
    "for attr in x_train.columns:\n",
    "    if int(attr.split('.')[-1]) == 13:\n",
    "        sot_attr.append(attr)\n",
    "\n",
    "x_train_sot = x_train[sot_attr]\n",
    "x_val_sot = x_val[sot_attr]\n",
    "x_test_sot = x_test[sot_attr]\n",
    "print(x_train_sot.shape,x_val_sot.shape,x_test_sot.shape)"
   ]
  },
  {
   "cell_type": "code",
   "execution_count": 17,
   "metadata": {},
   "outputs": [
    {
     "name": "stderr",
     "output_type": "stream",
     "text": [
      "\u001b[32m[I 2021-01-13 13:41:40,158]\u001b[0m A new study created in memory with name: no-name-47d55393-09de-4246-a862-7ba94ba8ee42\u001b[0m\n",
      "\u001b[32m[I 2021-01-13 13:41:40,344]\u001b[0m Trial 1 finished with value: 668.3057723890951 and parameters: {'min_samples_split': 0.7773231353617598, 'criterion': 'mse', 'max_depth': 16, 'n_estimators': 81, 'max_features': 'sqrt'}. Best is trial 1 with value: 668.3057723890951.\u001b[0m\n",
      "\u001b[32m[I 2021-01-13 13:41:41,298]\u001b[0m Trial 0 finished with value: 415.3216110107275 and parameters: {'min_samples_split': 0.20071034246198016, 'criterion': 'mse', 'max_depth': 22, 'n_estimators': 157, 'max_features': 'log2'}. Best is trial 0 with value: 415.3216110107275.\u001b[0m\n",
      "\u001b[32m[I 2021-01-13 13:41:41,419]\u001b[0m Trial 4 finished with value: 668.3204020271736 and parameters: {'min_samples_split': 0.7537659986365126, 'criterion': 'mse', 'max_depth': 8, 'n_estimators': 108, 'max_features': 'log2'}. Best is trial 0 with value: 415.3216110107275.\u001b[0m\n",
      "\u001b[32m[I 2021-01-13 13:41:42,324]\u001b[0m Trial 2 finished with value: 394.79061560842706 and parameters: {'min_samples_split': 0.07550899200651673, 'criterion': 'mse', 'max_depth': 6, 'n_estimators': 160, 'max_features': 'sqrt'}. Best is trial 2 with value: 394.79061560842706.\u001b[0m\n",
      "\u001b[32m[I 2021-01-13 13:41:42,688]\u001b[0m Trial 6 finished with value: 719.6143228219122 and parameters: {'min_samples_split': 0.8748725131779432, 'criterion': 'mae', 'max_depth': 20, 'n_estimators': 200, 'max_features': 'auto'}. Best is trial 2 with value: 394.79061560842706.\u001b[0m\n",
      "\u001b[32m[I 2021-01-13 13:41:42,968]\u001b[0m Trial 7 finished with value: 719.5657934081689 and parameters: {'min_samples_split': 0.7052197310861902, 'criterion': 'mae', 'max_depth': 11, 'n_estimators': 153, 'max_features': 'log2'}. Best is trial 2 with value: 394.79061560842706.\u001b[0m\n",
      "\u001b[32m[I 2021-01-13 13:41:52,025]\u001b[0m Trial 3 finished with value: 408.672424980506 and parameters: {'min_samples_split': 0.10459873351832183, 'criterion': 'mae', 'max_depth': 13, 'n_estimators': 67, 'max_features': 'log2'}. Best is trial 2 with value: 394.79061560842706.\u001b[0m\n",
      "\u001b[32m[I 2021-01-13 13:42:22,665]\u001b[0m Trial 8 finished with value: 429.9188440139922 and parameters: {'min_samples_split': 0.42071239509660363, 'criterion': 'mae', 'max_depth': 18, 'n_estimators': 144, 'max_features': 'sqrt'}. Best is trial 2 with value: 394.79061560842706.\u001b[0m\n",
      "\u001b[32m[I 2021-01-13 13:42:23,053]\u001b[0m Trial 10 finished with value: 719.5728818408751 and parameters: {'min_samples_split': 0.7922938216337005, 'criterion': 'mae', 'max_depth': 19, 'n_estimators': 187, 'max_features': 'auto'}. Best is trial 2 with value: 394.79061560842706.\u001b[0m\n",
      "\u001b[32m[I 2021-01-13 13:44:12,432]\u001b[0m Trial 2 finished with value: 471.86774178869734 and parameters: {'k': 463, 'min_samples_split': 0.28808574635660855, 'criterion': 'mae', 'max_depth': 2, 'n_estimators': 163, 'max_features': 'auto'}. Best is trial 14 with value: 387.8360345956135.\u001b[0m\n",
      "\u001b[32m[I 2021-01-13 13:44:38,812]\u001b[0m Trial 5 finished with value: 549.1689062362884 and parameters: {'min_samples_split': 0.597145468482234, 'criterion': 'mae', 'max_depth': 30, 'n_estimators': 64, 'max_features': 'auto'}. Best is trial 2 with value: 394.79061560842706.\u001b[0m\n",
      "\u001b[32m[I 2021-01-13 13:44:40,212]\u001b[0m Trial 12 finished with value: 427.2909278542309 and parameters: {'min_samples_split': 0.34515918828961334, 'criterion': 'mse', 'max_depth': 3, 'n_estimators': 174, 'max_features': 'sqrt'}. Best is trial 2 with value: 394.79061560842706.\u001b[0m\n",
      "\u001b[32m[I 2021-01-13 13:44:41,220]\u001b[0m Trial 13 finished with value: 416.7231323652545 and parameters: {'min_samples_split': 0.0002644734403789428, 'criterion': 'mse', 'max_depth': 3, 'n_estimators': 113, 'max_features': 'sqrt'}. Best is trial 2 with value: 394.79061560842706.\u001b[0m\n",
      "\u001b[32m[I 2021-01-13 13:44:41,709]\u001b[0m Trial 14 finished with value: 380.2166389890554 and parameters: {'min_samples_split': 0.013772746737621452, 'criterion': 'mse', 'max_depth': 9, 'n_estimators': 56, 'max_features': 'log2'}. Best is trial 14 with value: 380.2166389890554.\u001b[0m\n",
      "\u001b[32m[I 2021-01-13 13:44:42,798]\u001b[0m Trial 15 finished with value: 382.96254398522245 and parameters: {'min_samples_split': 0.00036702223768077073, 'criterion': 'mse', 'max_depth': 7, 'n_estimators': 134, 'max_features': 'log2'}. Best is trial 14 with value: 380.2166389890554.\u001b[0m\n",
      "\u001b[32m[I 2021-01-13 13:44:43,360]\u001b[0m Trial 16 finished with value: 416.02746151986463 and parameters: {'min_samples_split': 0.23357245073079713, 'criterion': 'mse', 'max_depth': 8, 'n_estimators': 94, 'max_features': 'log2'}. Best is trial 14 with value: 380.2166389890554.\u001b[0m\n",
      "\u001b[32m[I 2021-01-13 13:44:43,804]\u001b[0m Trial 17 finished with value: 474.20249283712155 and parameters: {'min_samples_split': 0.0074988688757371275, 'criterion': 'mse', 'max_depth': 2, 'n_estimators': 131, 'max_features': 'log2'}. Best is trial 14 with value: 380.2166389890554.\u001b[0m\n",
      "\u001b[32m[I 2021-01-13 13:44:44,673]\u001b[0m Trial 18 finished with value: 415.7015712621882 and parameters: {'min_samples_split': 0.22222564717233523, 'criterion': 'mse', 'max_depth': 12, 'n_estimators': 132, 'max_features': 'log2'}. Best is trial 14 with value: 380.2166389890554.\u001b[0m\n",
      "\u001b[32m[I 2021-01-13 13:44:44,798]\u001b[0m Trial 19 finished with value: 668.3047905622632 and parameters: {'min_samples_split': 0.9968437987860929, 'criterion': 'mse', 'max_depth': 26, 'n_estimators': 112, 'max_features': 'log2'}. Best is trial 14 with value: 380.2166389890554.\u001b[0m\n"
     ]
    },
    {
     "ename": "KeyboardInterrupt",
     "evalue": "",
     "output_type": "error",
     "traceback": [
      "\u001b[0;31m---------------------------------------------------------------------------\u001b[0m",
      "\u001b[0;31mKeyboardInterrupt\u001b[0m                         Traceback (most recent call last)",
      "\u001b[0;32m<ipython-input-17-87ad098e697c>\u001b[0m in \u001b[0;36m<module>\u001b[0;34m\u001b[0m\n\u001b[1;32m     22\u001b[0m \u001b[0mrf_sot_optuna\u001b[0m \u001b[0;34m=\u001b[0m \u001b[0moptuna\u001b[0m\u001b[0;34m.\u001b[0m\u001b[0mcreate_study\u001b[0m\u001b[0;34m(\u001b[0m\u001b[0mdirection\u001b[0m\u001b[0;34m=\u001b[0m\u001b[0;34m'minimize'\u001b[0m\u001b[0;34m)\u001b[0m\u001b[0;34m\u001b[0m\u001b[0;34m\u001b[0m\u001b[0m\n\u001b[1;32m     23\u001b[0m \u001b[0mstart_time\u001b[0m \u001b[0;34m=\u001b[0m \u001b[0mtime\u001b[0m\u001b[0;34m.\u001b[0m\u001b[0mtime\u001b[0m\u001b[0;34m(\u001b[0m\u001b[0;34m)\u001b[0m\u001b[0;34m\u001b[0m\u001b[0;34m\u001b[0m\u001b[0m\n\u001b[0;32m---> 24\u001b[0;31m \u001b[0mrf_sot_optuna\u001b[0m\u001b[0;34m.\u001b[0m\u001b[0moptimize\u001b[0m\u001b[0;34m(\u001b[0m\u001b[0mrandom_forest_sot_objective\u001b[0m\u001b[0;34m,\u001b[0m \u001b[0mn_trials\u001b[0m\u001b[0;34m=\u001b[0m\u001b[0mbudget\u001b[0m\u001b[0;34m,\u001b[0m \u001b[0mn_jobs\u001b[0m\u001b[0;34m=\u001b[0m\u001b[0mn_jobs\u001b[0m\u001b[0;34m)\u001b[0m\u001b[0;34m\u001b[0m\u001b[0;34m\u001b[0m\u001b[0m\n\u001b[0m\u001b[1;32m     25\u001b[0m \u001b[0mend_time\u001b[0m \u001b[0;34m=\u001b[0m \u001b[0mtime\u001b[0m\u001b[0;34m.\u001b[0m\u001b[0mtime\u001b[0m\u001b[0;34m(\u001b[0m\u001b[0;34m)\u001b[0m\u001b[0;34m\u001b[0m\u001b[0;34m\u001b[0m\u001b[0m\n",
      "\u001b[0;32m/usr/local/anaconda3/envs/master/lib/python3.8/site-packages/optuna/study.py\u001b[0m in \u001b[0;36moptimize\u001b[0;34m(self, func, n_trials, timeout, n_jobs, catch, callbacks, gc_after_trial, show_progress_bar)\u001b[0m\n\u001b[1;32m    304\u001b[0m                 \u001b[0mIf\u001b[0m \u001b[0mnested\u001b[0m \u001b[0minvocation\u001b[0m \u001b[0mof\u001b[0m \u001b[0mthis\u001b[0m \u001b[0mmethod\u001b[0m \u001b[0moccurs\u001b[0m\u001b[0;34m.\u001b[0m\u001b[0;34m\u001b[0m\u001b[0;34m\u001b[0m\u001b[0m\n\u001b[1;32m    305\u001b[0m         \"\"\"\n\u001b[0;32m--> 306\u001b[0;31m         _optimize(\n\u001b[0m\u001b[1;32m    307\u001b[0m             \u001b[0mstudy\u001b[0m\u001b[0;34m=\u001b[0m\u001b[0mself\u001b[0m\u001b[0;34m,\u001b[0m\u001b[0;34m\u001b[0m\u001b[0;34m\u001b[0m\u001b[0m\n\u001b[1;32m    308\u001b[0m             \u001b[0mfunc\u001b[0m\u001b[0;34m=\u001b[0m\u001b[0mfunc\u001b[0m\u001b[0;34m,\u001b[0m\u001b[0;34m\u001b[0m\u001b[0;34m\u001b[0m\u001b[0m\n",
      "\u001b[0;32m/usr/local/anaconda3/envs/master/lib/python3.8/site-packages/optuna/_optimize.py\u001b[0m in \u001b[0;36m_optimize\u001b[0;34m(study, func, n_trials, timeout, n_jobs, catch, callbacks, gc_after_trial, show_progress_bar)\u001b[0m\n\u001b[1;32m     99\u001b[0m                     )\n\u001b[1;32m    100\u001b[0m \u001b[0;34m\u001b[0m\u001b[0m\n\u001b[0;32m--> 101\u001b[0;31m                 parallel(\n\u001b[0m\u001b[1;32m    102\u001b[0m                     delayed(_optimize_sequential)(\n\u001b[1;32m    103\u001b[0m                         \u001b[0mstudy\u001b[0m\u001b[0;34m,\u001b[0m\u001b[0;34m\u001b[0m\u001b[0;34m\u001b[0m\u001b[0m\n",
      "\u001b[0;32m/usr/local/anaconda3/envs/master/lib/python3.8/site-packages/joblib/parallel.py\u001b[0m in \u001b[0;36m__call__\u001b[0;34m(self, iterable)\u001b[0m\n\u001b[1;32m   1052\u001b[0m \u001b[0;34m\u001b[0m\u001b[0m\n\u001b[1;32m   1053\u001b[0m             \u001b[0;32mwith\u001b[0m \u001b[0mself\u001b[0m\u001b[0;34m.\u001b[0m\u001b[0m_backend\u001b[0m\u001b[0;34m.\u001b[0m\u001b[0mretrieval_context\u001b[0m\u001b[0;34m(\u001b[0m\u001b[0;34m)\u001b[0m\u001b[0;34m:\u001b[0m\u001b[0;34m\u001b[0m\u001b[0;34m\u001b[0m\u001b[0m\n\u001b[0;32m-> 1054\u001b[0;31m                 \u001b[0mself\u001b[0m\u001b[0;34m.\u001b[0m\u001b[0mretrieve\u001b[0m\u001b[0;34m(\u001b[0m\u001b[0;34m)\u001b[0m\u001b[0;34m\u001b[0m\u001b[0;34m\u001b[0m\u001b[0m\n\u001b[0m\u001b[1;32m   1055\u001b[0m             \u001b[0;31m# Make sure that we get a last message telling us we are done\u001b[0m\u001b[0;34m\u001b[0m\u001b[0;34m\u001b[0m\u001b[0;34m\u001b[0m\u001b[0m\n\u001b[1;32m   1056\u001b[0m             \u001b[0melapsed_time\u001b[0m \u001b[0;34m=\u001b[0m \u001b[0mtime\u001b[0m\u001b[0;34m.\u001b[0m\u001b[0mtime\u001b[0m\u001b[0;34m(\u001b[0m\u001b[0;34m)\u001b[0m \u001b[0;34m-\u001b[0m \u001b[0mself\u001b[0m\u001b[0;34m.\u001b[0m\u001b[0m_start_time\u001b[0m\u001b[0;34m\u001b[0m\u001b[0;34m\u001b[0m\u001b[0m\n",
      "\u001b[0;32m/usr/local/anaconda3/envs/master/lib/python3.8/site-packages/joblib/parallel.py\u001b[0m in \u001b[0;36mretrieve\u001b[0;34m(self)\u001b[0m\n\u001b[1;32m    931\u001b[0m             \u001b[0;32mtry\u001b[0m\u001b[0;34m:\u001b[0m\u001b[0;34m\u001b[0m\u001b[0;34m\u001b[0m\u001b[0m\n\u001b[1;32m    932\u001b[0m                 \u001b[0;32mif\u001b[0m \u001b[0mgetattr\u001b[0m\u001b[0;34m(\u001b[0m\u001b[0mself\u001b[0m\u001b[0;34m.\u001b[0m\u001b[0m_backend\u001b[0m\u001b[0;34m,\u001b[0m \u001b[0;34m'supports_timeout'\u001b[0m\u001b[0;34m,\u001b[0m \u001b[0;32mFalse\u001b[0m\u001b[0;34m)\u001b[0m\u001b[0;34m:\u001b[0m\u001b[0;34m\u001b[0m\u001b[0;34m\u001b[0m\u001b[0m\n\u001b[0;32m--> 933\u001b[0;31m                     \u001b[0mself\u001b[0m\u001b[0;34m.\u001b[0m\u001b[0m_output\u001b[0m\u001b[0;34m.\u001b[0m\u001b[0mextend\u001b[0m\u001b[0;34m(\u001b[0m\u001b[0mjob\u001b[0m\u001b[0;34m.\u001b[0m\u001b[0mget\u001b[0m\u001b[0;34m(\u001b[0m\u001b[0mtimeout\u001b[0m\u001b[0;34m=\u001b[0m\u001b[0mself\u001b[0m\u001b[0;34m.\u001b[0m\u001b[0mtimeout\u001b[0m\u001b[0;34m)\u001b[0m\u001b[0;34m)\u001b[0m\u001b[0;34m\u001b[0m\u001b[0;34m\u001b[0m\u001b[0m\n\u001b[0m\u001b[1;32m    934\u001b[0m                 \u001b[0;32melse\u001b[0m\u001b[0;34m:\u001b[0m\u001b[0;34m\u001b[0m\u001b[0;34m\u001b[0m\u001b[0m\n\u001b[1;32m    935\u001b[0m                     \u001b[0mself\u001b[0m\u001b[0;34m.\u001b[0m\u001b[0m_output\u001b[0m\u001b[0;34m.\u001b[0m\u001b[0mextend\u001b[0m\u001b[0;34m(\u001b[0m\u001b[0mjob\u001b[0m\u001b[0;34m.\u001b[0m\u001b[0mget\u001b[0m\u001b[0;34m(\u001b[0m\u001b[0;34m)\u001b[0m\u001b[0;34m)\u001b[0m\u001b[0;34m\u001b[0m\u001b[0;34m\u001b[0m\u001b[0m\n",
      "\u001b[0;32m/usr/local/anaconda3/envs/master/lib/python3.8/multiprocessing/pool.py\u001b[0m in \u001b[0;36mget\u001b[0;34m(self, timeout)\u001b[0m\n\u001b[1;32m    763\u001b[0m \u001b[0;34m\u001b[0m\u001b[0m\n\u001b[1;32m    764\u001b[0m     \u001b[0;32mdef\u001b[0m \u001b[0mget\u001b[0m\u001b[0;34m(\u001b[0m\u001b[0mself\u001b[0m\u001b[0;34m,\u001b[0m \u001b[0mtimeout\u001b[0m\u001b[0;34m=\u001b[0m\u001b[0;32mNone\u001b[0m\u001b[0;34m)\u001b[0m\u001b[0;34m:\u001b[0m\u001b[0;34m\u001b[0m\u001b[0;34m\u001b[0m\u001b[0m\n\u001b[0;32m--> 765\u001b[0;31m         \u001b[0mself\u001b[0m\u001b[0;34m.\u001b[0m\u001b[0mwait\u001b[0m\u001b[0;34m(\u001b[0m\u001b[0mtimeout\u001b[0m\u001b[0;34m)\u001b[0m\u001b[0;34m\u001b[0m\u001b[0;34m\u001b[0m\u001b[0m\n\u001b[0m\u001b[1;32m    766\u001b[0m         \u001b[0;32mif\u001b[0m \u001b[0;32mnot\u001b[0m \u001b[0mself\u001b[0m\u001b[0;34m.\u001b[0m\u001b[0mready\u001b[0m\u001b[0;34m(\u001b[0m\u001b[0;34m)\u001b[0m\u001b[0;34m:\u001b[0m\u001b[0;34m\u001b[0m\u001b[0;34m\u001b[0m\u001b[0m\n\u001b[1;32m    767\u001b[0m             \u001b[0;32mraise\u001b[0m \u001b[0mTimeoutError\u001b[0m\u001b[0;34m\u001b[0m\u001b[0;34m\u001b[0m\u001b[0m\n",
      "\u001b[0;32m/usr/local/anaconda3/envs/master/lib/python3.8/multiprocessing/pool.py\u001b[0m in \u001b[0;36mwait\u001b[0;34m(self, timeout)\u001b[0m\n\u001b[1;32m    760\u001b[0m \u001b[0;34m\u001b[0m\u001b[0m\n\u001b[1;32m    761\u001b[0m     \u001b[0;32mdef\u001b[0m \u001b[0mwait\u001b[0m\u001b[0;34m(\u001b[0m\u001b[0mself\u001b[0m\u001b[0;34m,\u001b[0m \u001b[0mtimeout\u001b[0m\u001b[0;34m=\u001b[0m\u001b[0;32mNone\u001b[0m\u001b[0;34m)\u001b[0m\u001b[0;34m:\u001b[0m\u001b[0;34m\u001b[0m\u001b[0;34m\u001b[0m\u001b[0m\n\u001b[0;32m--> 762\u001b[0;31m         \u001b[0mself\u001b[0m\u001b[0;34m.\u001b[0m\u001b[0m_event\u001b[0m\u001b[0;34m.\u001b[0m\u001b[0mwait\u001b[0m\u001b[0;34m(\u001b[0m\u001b[0mtimeout\u001b[0m\u001b[0;34m)\u001b[0m\u001b[0;34m\u001b[0m\u001b[0;34m\u001b[0m\u001b[0m\n\u001b[0m\u001b[1;32m    763\u001b[0m \u001b[0;34m\u001b[0m\u001b[0m\n\u001b[1;32m    764\u001b[0m     \u001b[0;32mdef\u001b[0m \u001b[0mget\u001b[0m\u001b[0;34m(\u001b[0m\u001b[0mself\u001b[0m\u001b[0;34m,\u001b[0m \u001b[0mtimeout\u001b[0m\u001b[0;34m=\u001b[0m\u001b[0;32mNone\u001b[0m\u001b[0;34m)\u001b[0m\u001b[0;34m:\u001b[0m\u001b[0;34m\u001b[0m\u001b[0;34m\u001b[0m\u001b[0m\n",
      "\u001b[0;32m/usr/local/anaconda3/envs/master/lib/python3.8/threading.py\u001b[0m in \u001b[0;36mwait\u001b[0;34m(self, timeout)\u001b[0m\n\u001b[1;32m    556\u001b[0m             \u001b[0msignaled\u001b[0m \u001b[0;34m=\u001b[0m \u001b[0mself\u001b[0m\u001b[0;34m.\u001b[0m\u001b[0m_flag\u001b[0m\u001b[0;34m\u001b[0m\u001b[0;34m\u001b[0m\u001b[0m\n\u001b[1;32m    557\u001b[0m             \u001b[0;32mif\u001b[0m \u001b[0;32mnot\u001b[0m \u001b[0msignaled\u001b[0m\u001b[0;34m:\u001b[0m\u001b[0;34m\u001b[0m\u001b[0;34m\u001b[0m\u001b[0m\n\u001b[0;32m--> 558\u001b[0;31m                 \u001b[0msignaled\u001b[0m \u001b[0;34m=\u001b[0m \u001b[0mself\u001b[0m\u001b[0;34m.\u001b[0m\u001b[0m_cond\u001b[0m\u001b[0;34m.\u001b[0m\u001b[0mwait\u001b[0m\u001b[0;34m(\u001b[0m\u001b[0mtimeout\u001b[0m\u001b[0;34m)\u001b[0m\u001b[0;34m\u001b[0m\u001b[0;34m\u001b[0m\u001b[0m\n\u001b[0m\u001b[1;32m    559\u001b[0m             \u001b[0;32mreturn\u001b[0m \u001b[0msignaled\u001b[0m\u001b[0;34m\u001b[0m\u001b[0;34m\u001b[0m\u001b[0m\n\u001b[1;32m    560\u001b[0m \u001b[0;34m\u001b[0m\u001b[0m\n",
      "\u001b[0;32m/usr/local/anaconda3/envs/master/lib/python3.8/threading.py\u001b[0m in \u001b[0;36mwait\u001b[0;34m(self, timeout)\u001b[0m\n\u001b[1;32m    300\u001b[0m         \u001b[0;32mtry\u001b[0m\u001b[0;34m:\u001b[0m    \u001b[0;31m# restore state no matter what (e.g., KeyboardInterrupt)\u001b[0m\u001b[0;34m\u001b[0m\u001b[0;34m\u001b[0m\u001b[0m\n\u001b[1;32m    301\u001b[0m             \u001b[0;32mif\u001b[0m \u001b[0mtimeout\u001b[0m \u001b[0;32mis\u001b[0m \u001b[0;32mNone\u001b[0m\u001b[0;34m:\u001b[0m\u001b[0;34m\u001b[0m\u001b[0;34m\u001b[0m\u001b[0m\n\u001b[0;32m--> 302\u001b[0;31m                 \u001b[0mwaiter\u001b[0m\u001b[0;34m.\u001b[0m\u001b[0macquire\u001b[0m\u001b[0;34m(\u001b[0m\u001b[0;34m)\u001b[0m\u001b[0;34m\u001b[0m\u001b[0;34m\u001b[0m\u001b[0m\n\u001b[0m\u001b[1;32m    303\u001b[0m                 \u001b[0mgotit\u001b[0m \u001b[0;34m=\u001b[0m \u001b[0;32mTrue\u001b[0m\u001b[0;34m\u001b[0m\u001b[0;34m\u001b[0m\u001b[0m\n\u001b[1;32m    304\u001b[0m             \u001b[0;32melse\u001b[0m\u001b[0;34m:\u001b[0m\u001b[0;34m\u001b[0m\u001b[0;34m\u001b[0m\u001b[0m\n",
      "\u001b[0;31mKeyboardInterrupt\u001b[0m: "
     ]
    }
   ],
   "source": [
    "np.random.seed(random_state)\n",
    "def random_forest_sot_objective(trial):\n",
    "    min_samples_split = trial.suggest_uniform('min_samples_split', 0+sys.float_info.min, 1)\n",
    "    criterion = trial.suggest_categorical('criterion', ['mse','mae'])\n",
    "    max_depth = trial.suggest_int('max_depth', min_max_depth, max_max_depth)\n",
    "    n_estimators = trial.suggest_int('n_estimators', min_n_estimators, max_n_estimators)\n",
    "    max_features = trial.suggest_categorical('max_features', ['auto', 'sqrt', 'log2'])\n",
    "\n",
    "    clf = ensemble.RandomForestRegressor(\n",
    "        random_state=random_state,\n",
    "        min_samples_split=min_samples_split,\n",
    "        criterion=criterion,\n",
    "        max_depth=max_depth,\n",
    "        n_estimators=n_estimators,\n",
    "        max_features=max_features\n",
    "        )\n",
    "\n",
    "    clf = clf.fit(x_train_sot, y_train)\n",
    "    y_val_pred = clf.predict(x_val_sot)\n",
    "    return math.sqrt(metrics.mean_squared_error(y_val, y_val_pred))\n",
    "\n",
    "rf_sot_optuna = optuna.create_study(direction='minimize')\n",
    "start_time = time.time()\n",
    "rf_sot_optuna.optimize(random_forest_sot_objective, n_trials=budget, n_jobs=n_jobs)\n",
    "end_time = time.time()"
   ]
  },
  {
   "cell_type": "code",
   "execution_count": null,
   "metadata": {},
   "outputs": [],
   "source": [
    "#TODO: Conclusions\n",
    "print(rf_sot_optuna.best_params, rf_sot_optuna.best_value)"
   ]
  }
 ],
 "metadata": {
  "kernelspec": {
   "display_name": "Python 3",
   "language": "python",
   "name": "python3"
  },
  "language_info": {
   "codemirror_mode": {
    "name": "ipython",
    "version": 3
   },
   "file_extension": ".py",
   "mimetype": "text/x-python",
   "name": "python",
   "nbconvert_exporter": "python",
   "pygments_lexer": "ipython3",
   "version": "3.8.5"
  }
 },
 "nbformat": 4,
 "nbformat_minor": 4
}
